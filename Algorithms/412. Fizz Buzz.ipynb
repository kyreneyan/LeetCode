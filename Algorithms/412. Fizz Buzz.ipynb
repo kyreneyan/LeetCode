{
 "cells": [
  {
   "cell_type": "code",
   "execution_count": null,
   "metadata": {},
   "outputs": [],
   "source": [
    "class Solution(object):\n",
    "    def fizzBuzz(self, n):\n",
    "        \"\"\"\n",
    "        :type n: int\n",
    "        :rtype: List[str]\n",
    "        \"\"\"\n",
    "        n_list = []\n",
    "        for i in range(1,n+1):\n",
    "            if i%3 == 0 and i%5 == 0:\n",
    "                n_list.append(\"FizzBuzz\")\n",
    "            elif i%3 == 0:\n",
    "                n_list.append(\"Fizz\")\n",
    "            elif i%5 == 0:\n",
    "                n_list.append(\"Buzz\")  \n",
    "            else:\n",
    "                n_list.append(str(i))\n",
    "        \n",
    "        return n_list\n",
    "        "
   ]
  }
 ],
 "metadata": {
  "kernelspec": {
   "display_name": "Python 3",
   "language": "python",
   "name": "python3"
  },
  "language_info": {
   "codemirror_mode": {
    "name": "ipython",
    "version": 3
   },
   "file_extension": ".py",
   "mimetype": "text/x-python",
   "name": "python",
   "nbconvert_exporter": "python",
   "pygments_lexer": "ipython3",
   "version": "3.7.7"
  }
 },
 "nbformat": 4,
 "nbformat_minor": 4
}
