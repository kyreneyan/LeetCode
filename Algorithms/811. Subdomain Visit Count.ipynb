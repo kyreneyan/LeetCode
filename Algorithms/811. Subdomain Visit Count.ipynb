{
 "cells": [
  {
   "cell_type": "code",
   "execution_count": null,
   "metadata": {},
   "outputs": [],
   "source": []
  },
  {
   "cell_type": "code",
   "execution_count": 1,
   "metadata": {},
   "outputs": [],
   "source": [
    "class Solution(object):\n",
    "    def subdomainVisits(self, cpdomains):\n",
    "        \"\"\"\n",
    "        :type cpdomains: List[str]\n",
    "        :rtype: List[str]\n",
    "        \"\"\"\n",
    "        d = dict()\n",
    "        for i in cpdomains:\n",
    "            num, web = i.split()\n",
    "            web_sub = web.split('.')\n",
    "            for j in range(len(web_sub)):\n",
    "                if '.'.join(web_sub[j:]) not in d:\n",
    "                    d['.'.join(web_sub[j:])] = int(num)\n",
    "                else:\n",
    "                    d['.'.join(web_sub[j:])] += int(num)\n",
    "            \n",
    "        visit =[]\n",
    "        for k,v in d.items():\n",
    "            visit += [str(v)+' '+k]\n",
    "                \n",
    "        return visit"
   ]
  }
 ],
 "metadata": {
  "kernelspec": {
   "display_name": "Python 3",
   "language": "python",
   "name": "python3"
  },
  "language_info": {
   "codemirror_mode": {
    "name": "ipython",
    "version": 3
   },
   "file_extension": ".py",
   "mimetype": "text/x-python",
   "name": "python",
   "nbconvert_exporter": "python",
   "pygments_lexer": "ipython3",
   "version": "3.7.7"
  }
 },
 "nbformat": 4,
 "nbformat_minor": 4
}
