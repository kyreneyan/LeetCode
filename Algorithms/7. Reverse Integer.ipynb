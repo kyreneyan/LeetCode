{
 "cells": [
  {
   "cell_type": "markdown",
   "metadata": {},
   "source": [
    "Given a signed 32-bit integer x, return x with its digits reversed. If reversing x causes the value to go outside the signed 32-bit integer range [-231, 231 - 1], then return 0."
   ]
  },
  {
   "cell_type": "markdown",
   "metadata": {},
   "source": [
    "Input: x = 123\n",
    "Output: 321\n",
    "    \n",
    "Input: x = -123\n",
    "Output: -321\n",
    "\n",
    "Input: x = 120\n",
    "Output: 21\n",
    "\n",
    "Input: x = 0\n",
    "Output: 0"
   ]
  },
  {
   "cell_type": "code",
   "execution_count": null,
   "metadata": {},
   "outputs": [],
   "source": [
    "class Solution(object):\n",
    "    def reverse(self, x):\n",
    "        \"\"\"\n",
    "        :type x: int\n",
    "        :rtype: int\n",
    "        \"\"\"\n",
    "        x_str = str(x)\n",
    "        if x > 0:\n",
    "            x_new= int(x_str[::-1])\n",
    "        elif x == 0:\n",
    "            x_new= 0\n",
    "        else:\n",
    "            x_new= -int((x_str)[1:][::-1])\n",
    " \n",
    "        return x_new if -2147483648 < x_new < 2147483647 else 0"
   ]
  }
 ],
 "metadata": {
  "kernelspec": {
   "display_name": "Python 3",
   "language": "python",
   "name": "python3"
  },
  "language_info": {
   "codemirror_mode": {
    "name": "ipython",
    "version": 3
   },
   "file_extension": ".py",
   "mimetype": "text/x-python",
   "name": "python",
   "nbconvert_exporter": "python",
   "pygments_lexer": "ipython3",
   "version": "3.7.7"
  }
 },
 "nbformat": 4,
 "nbformat_minor": 4
}
