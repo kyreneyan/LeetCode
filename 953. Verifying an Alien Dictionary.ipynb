{
 "cells": [
  {
   "cell_type": "markdown",
   "metadata": {},
   "source": [
    "In an alien language, surprisingly they also use english lowercase letters, but possibly in a different order. The order of the alphabet is some permutation of lowercase letters.\n",
    "\n",
    "Given a sequence of words written in the alien language, and the order of the alphabet, return true if and only if the given words are sorted lexicographicaly in this alien language.\n",
    "\n"
   ]
  },
  {
   "cell_type": "code",
   "execution_count": null,
   "metadata": {},
   "outputs": [],
   "source": [
    "Input: words = [\"hello\",\"leetcode\"], order = \"hlabcdefgijkmnopqrstuvwxyz\"\n",
    "Output: true\n",
    "Explanation: As 'h' comes before 'l' in this language, then the sequence is sorted."
   ]
  },
  {
   "cell_type": "code",
   "execution_count": null,
   "metadata": {},
   "outputs": [],
   "source": [
    "Input: words = [\"word\",\"world\",\"row\"], order = \"worldabcefghijkmnpqstuvxyz\"\n",
    "Output: false\n",
    "Explanation: As 'd' comes after 'l' in this language, then words[0] > words[1], hence the sequence is unsorted."
   ]
  },
  {
   "cell_type": "code",
   "execution_count": null,
   "metadata": {},
   "outputs": [],
   "source": [
    "Input: words = [\"apple\",\"app\"], order = \"abcdefghijklmnopqrstuvwxyz\"\n",
    "Output: false\n",
    "Explanation: The first three characters \"app\" match, and the second string is shorter (in size.) According to lexicographical rules \"apple\" > \"app\", because 'l' > '∅', where '∅' is defined as the blank character which is less than any other character (More info)."
   ]
  },
  {
   "cell_type": "code",
   "execution_count": null,
   "metadata": {},
   "outputs": [],
   "source": [
    "# Solution 1\n",
    "class Solution(object):\n",
    "    def isAlienSorted(self, words, order):\n",
    "        \"\"\"\n",
    "        :type words: List[str]\n",
    "        :type order: str\n",
    "        :rtype: bool\n",
    "        \"\"\"\n",
    "        for i in range(len(words)-1):\n",
    "            for j in range(len(words[i])):              \n",
    "                if j >= len(words[i+1]):\n",
    "                    return False\n",
    "                \n",
    "                if words[i][j] != words[i+1][j]:\n",
    "                    if order.index(words[i][j]) > order.index(words[i+1][j]):\n",
    "                        return False\n",
    "                    break\n",
    "        return True"
   ]
  },
  {
   "cell_type": "markdown",
   "metadata": {},
   "source": [
    "### Solution 2 \n",
    "To check if the given words are sorted, for each word we need to check if every word on its right is lexicographically larger. Likewise, for each word we could check if every word on its left is lexicographically smaller. That said, we don't need to compare every word to all of the words to its right. Instead, we can just compare each pair of adjacent words. If all pairs of adjacent words are sorted, then we can safely conclude that words is sorted. Furthermore, if any pair of adjacent words is not sorted, then we know that words is not sorted."
   ]
  },
  {
   "cell_type": "code",
   "execution_count": null,
   "metadata": {},
   "outputs": [],
   "source": [
    "class Solution(object):\n",
    "    def isAlienSorted(self, words, order):\n",
    "        \"\"\"\n",
    "        :type words: List[str]\n",
    "        :type order: str\n",
    "        :rtype: bool\n",
    "        \"\"\"\n",
    "        order_dic = dict()\n",
    "        for k,v in enumerate(order):\n",
    "            order_dic[v] = k\n",
    "        \n",
    "        for i in range(len(words)-1):\n",
    "            for j in range(len(words[i])):\n",
    "                # If we do not find a mismatch letter between words[i] and words[i + 1],\n",
    "                # we need to examine the case when words are like (\"apple\", \"app\").\n",
    "                if j >= len(words[i+1]):\n",
    "                    return False\n",
    "                \n",
    "                if words[i][j] != words[i+1][j]:\n",
    "                    if order_dic[words[i][j]] > order_dic[words[i+1][j]]:\n",
    "                        return False\n",
    "                    # if we find the first different character and they are sorted,\n",
    "                    # then there's no need to check remaining letters\n",
    "                    break\n",
    "            \n",
    "        return True"
   ]
  },
  {
   "cell_type": "code",
   "execution_count": null,
   "metadata": {},
   "outputs": [],
   "source": [
    "# Solution 2\n",
    "class Solution(object):\n",
    "    def isAlienSorted(self, words, order):\n",
    "        \"\"\"\n",
    "        :type words: List[str]\n",
    "        :type order: str\n",
    "        :rtype: bool\n",
    "        \"\"\"\n",
    "        for i in range(len(words) -1):\n",
    "            len_min = min(len(words[i]),len(words[i+1]))\n",
    "            for j in range(len_min):\n",
    "                if order.index(words[i][j]) < order.index(words[i+1][j]):\n",
    "                    break\n",
    "                elif order.index(words[i][j]) > order.index(words[i+1][j]):\n",
    "                    return False\n",
    "                elif j == len_min - 1 and len(words[i+1]) < len(words[i]):\n",
    "                    return False\n",
    "                \n",
    "                \n",
    "        return True"
   ]
  }
 ],
 "metadata": {
  "kernelspec": {
   "display_name": "Python 3",
   "language": "python",
   "name": "python3"
  },
  "language_info": {
   "codemirror_mode": {
    "name": "ipython",
    "version": 3
   },
   "file_extension": ".py",
   "mimetype": "text/x-python",
   "name": "python",
   "nbconvert_exporter": "python",
   "pygments_lexer": "ipython3",
   "version": "3.7.7"
  }
 },
 "nbformat": 4,
 "nbformat_minor": 4
}
