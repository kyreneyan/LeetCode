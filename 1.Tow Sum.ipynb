{
 "cells": [
  {
   "cell_type": "markdown",
   "metadata": {},
   "source": [
    "### Tow Sum\n",
    "Given an array of integers nums and an integer target, return indices of the two numbers such that they add up to target.\n",
    "\n",
    "Input: nums = [2,7,11,15], target = 9\n",
    "\n",
    "Output: [0,1]\n",
    "\n",
    "Output: Because nums[0] + nums[1] == 9, we return [0, 1]."
   ]
  },
  {
   "cell_type": "code",
   "execution_count": 1,
   "metadata": {},
   "outputs": [],
   "source": [
    "# Soluntion 1 \n",
    "#利用哈希字典({元素: 下标})的 O(1) 时间存取的特性.\n",
    "#扫描数组, 在字典中查找 target - num 元素, 如没找到则将当前扫描值记录一下.\n",
    "#算法复杂度 O(n).\n",
    "class Solution(object):\n",
    "    def twoSum(self, nums, target):\n",
    "        \"\"\"\n",
    "        :type nums: List[int]\n",
    "        :type target: int\n",
    "        :rtype: List[int]\n",
    "        \"\"\"\n",
    "        num_dict = dict() # key:nums, value: number index\n",
    "        for i,num in enumerate(nums):\n",
    "            if (target - num) in num_dict:\n",
    "                return [num_dict[target-num],i]\n",
    "            else:\n",
    "                num_dict[num] = i"
   ]
  },
  {
   "cell_type": "markdown",
   "metadata": {},
   "source": [
    "双指针法扫描有序数组: 该方法可以避免对原始数组进行暴力枚举时的冗余计算.\n",
    "考虑数组 [a, b, c] 和目标值 target:\n",
    "\n",
    "若 a + b == target, 则返回[a, b].\n",
    "若 a + b != target, 则可能要分别计算 a + c 与 b + c.\n",
    "以上是暴力枚举法的步骤. 但如果知道数组元素的序关系 a < c < b, 那么:\n",
    "\n",
    "若 a + b < target, 则只需计算 c + b 即可;\n",
    "若 a + b > target, 则只需计算 a + c 即可.\n",
    "所以, 如果知道数组元素的序关系, 就可以优化计算. 特别是对于元素数量较大的数组, 可以大幅减少需要计算的二元组数量.\n",
    "具体地, 先对数组进行排序, 然后初始化两个分别指向最小值和最大值的指针, 根据两指针指向的元素之和与target的大小关系, 决定移动哪个指针, 重复此步骤直至满足条件或数组扫描完毕.\n",
    "排序复杂度 O(nlogn), 扫描复杂度 O(n), 故总体复杂度为O(nlogn).\n"
   ]
  },
  {
   "cell_type": "code",
   "execution_count": null,
   "metadata": {},
   "outputs": [],
   "source": [
    "# Soluntion 2\n",
    "def twoSum(nums, target):\n",
    "    idx_nums = [*zip(range(len(nums)),nums)]\n",
    "    idx_nums.sort(key = lambda x:x[1])\n",
    "    idx_vec,_ = zip(*idx_nums)\n",
    "    \n",
    "    lo,hi = 0, len(nums)-1\n",
    "    while lo < hi:\n",
    "        s = nums[idx_vec[lo]]+ nums[idx_vec[hi]]\n",
    "        if s == target:\n",
    "            return [idx_vec[lo], idx_vec[hi]]\n",
    "        elif s < target:\n",
    "            lo +=1\n",
    "        else:\n",
    "            hi-=1"
   ]
  },
  {
   "cell_type": "code",
   "execution_count": null,
   "metadata": {},
   "outputs": [],
   "source": [
    "## Python 字典， key值不能重复,不可变类型tuple可以作为key\n",
    "d = {key1 : value1, key2 : value2 }\n",
    "\n",
    "#创建字典\n",
    "d = {}\n",
    "d = dict()\n",
    "#访问\n",
    "#通过 key 访问 value \n",
    "d[key1]\n",
    "#通过 key 添加/修改 key-value 对\n",
    "d[key3]=value3\n",
    "d[key1]=value4\n",
    "#通过 key 删除 key-value 对\n",
    "del d[key1]\n",
    "#判断字典是否包含指定的 key --- in / not in \n",
    "key1 in d\n",
    "\n",
    "# get()key 来获取 value,如果key不存在，返回None\n",
    "d.get(key1) ---- value1\n",
    "# update(), 以后键值对，value更新，没有的新添加\n",
    "d.update({key1:v5})\n",
    "# items()、keys()、values() 分别用于获取字典中的所有 key-value 对、所有 key、所有 value\n",
    "# pop()用于获取指定 key 对应的 value，并删除这个 key-value 对\n",
    "d.pop(key1)"
   ]
  },
  {
   "cell_type": "code",
   "execution_count": null,
   "metadata": {},
   "outputs": [],
   "source": [
    "#zip() 函数用于将可迭代的对象作为参数，将对象中对应的元素打包成一个个元组，然后返回由这些元组组成的列表\n",
    "a = [1,2,3]\n",
    "b = [4,5,6]\n",
    "c = [4,5,6,7,8]\n",
    "zipped = zip(a,b)     # 打包为元组的列表\n",
    "[(1, 4), (2, 5), (3, 6)]\n",
    "zip(a,c)              # 元素个数与最短的列表一致\n",
    "[(1, 4), (2, 5), (3, 6)]\n",
    "zip(*zipped)          # 与 zip 相反，*zipped 可理解为解压，返回二维矩阵式\n",
    "[(1, 2, 3), (4, 5, 6)]\n",
    "\n",
    "nums = [4,5,6,7,8]\n",
    "[*zip(range(len(nums)),nums)]\n",
    "[(0, 4), (1, 5), (2, 6), (3, 7), (4, 8)]"
   ]
  },
  {
   "cell_type": "code",
   "execution_count": null,
   "metadata": {},
   "outputs": [],
   "source": []
  }
 ],
 "metadata": {
  "kernelspec": {
   "display_name": "Python 3",
   "language": "python",
   "name": "python3"
  },
  "language_info": {
   "codemirror_mode": {
    "name": "ipython",
    "version": 3
   },
   "file_extension": ".py",
   "mimetype": "text/x-python",
   "name": "python",
   "nbconvert_exporter": "python",
   "pygments_lexer": "ipython3",
   "version": "3.7.7"
  }
 },
 "nbformat": 4,
 "nbformat_minor": 4
}
